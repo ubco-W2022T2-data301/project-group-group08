{
 "cells": [
  {
   "attachments": {},
   "cell_type": "markdown",
   "metadata": {},
   "source": [
    "# Aticha Amie Prasongsukarn"
   ]
  },
  {
   "attachments": {},
   "cell_type": "markdown",
   "metadata": {},
   "source": [
    "## Research question/interests\n",
    "\n",
    "**What are the average healthcare costs and income for different age groups?**\n",
    "For this question, I plan to calculate the average healthcare cost and income for each age group and produce a graph where the x-axis is the age group and the y-axis is the amount. The graph will be plotted as a bar chart with 2 bars for each age group side by side, 1 for healthcare cost and the other for income.\n",
    "\n",
    "**Does the age group correlate with healthcare costs in a set of data collected from several regions in the US?**\n",
    "I plan to create a scatter plot for this question and see whether the data will create a correlated outcome that will be clear enough to create a line/curve of best fit or not. If the plot produced shows a weak correlation, I could add error bars and find the outlier for the dataset and drop those outliers. Thus, refining the dataset further and creating a stronger dataset.\n"
   ]
  }
 ],
 "metadata": {
  "kernelspec": {
   "display_name": "Python 3",
   "language": "python",
   "name": "python3"
  }
 },
 "nbformat": 4,
 "nbformat_minor": 2
}
